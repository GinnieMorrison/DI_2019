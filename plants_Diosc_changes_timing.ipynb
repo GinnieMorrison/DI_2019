{
 "cells": [
  {
   "cell_type": "code",
   "execution_count": 35,
   "metadata": {},
   "outputs": [],
   "source": [
    "##Import libraries for data exploration\n",
    "import pandas as pd\n",
    "import random"
   ]
  },
  {
   "cell_type": "code",
   "execution_count": 34,
   "metadata": {},
   "outputs": [],
   "source": [
    "gdb=pd.read_csv('Genera_Database.csv',na_values='nan').drop_duplicates(keep=False) #remove headers from cat\n",
    "gdb=gdb[gdb['Date']!='Date']\n",
    "\n",
    "fix_date=gdb.replace({\"[0-9]+ publ. \":\"\"},regex=True)\n",
    "fix_dates=fix_date.replace({\"[0-9]+-\":\"\"},regex=True)\n",
    "fix_dates[['Date']]=fix_dates[['Date']].astype(float) #so that we can keep NaNs\n",
    "\n",
    "rm_hybrids_variants=fix_dates[fix_dates['Genus hybrid marker'].isnull() & fix_dates['Species hybrid marker'].isnull() & \n",
    "    fix_dates['Infraspecific rank'].isnull()]\n",
    "#hybrids and varieties/subspecies probably will probably inflate the name changes, etc. I am less interested in these when doing this\n",
    "#more general overview.\n",
    "working_db=rm_hybrids_variants[['ID','Family','Genus','Species','Taxonomic status in TPL','Nomenclatural status from original data source',\n",
    "    'Date', 'Accepted ID']]\n",
    "\n",
    "#I will only be looking at accepted and synonyms for this project.\n",
    "accepted=working_db[working_db['Taxonomic status in TPL']=='Accepted'][['ID','Family','Genus','Species',\n",
    "    'Taxonomic status in TPL','Nomenclatural status from original data source','Date']]\n",
    "synonym=working_db[working_db['Taxonomic status in TPL']=='Synonym']\n",
    "\n",
    "accepted.columns=['ID', 'Family', 'Genus','Species', 'Status', 'Original Status', 'Date']\n",
    "synonym.columns=['Syn ID', 'Syn Family', 'Syn Genus','Syn Species', 'Syn Status', 'Syn Original Status', 'Syn Date','Accepted ID']\n",
    "\n",
    "accepted_syn_db=pd.merge(accepted, synonym, left_on='ID',right_on='Accepted ID', how='outer') \n",
    "accepted_syn_db['Time Diff']=abs(accepted_syn_db['Syn Date']-accepted_syn_db['Date'])\n",
    "accepted_syn_db=accepted_syn_db[accepted_syn_db['Time Diff']<300] #remove any bad dates--linaeus would be earliest in 1700s\n",
    "\n",
    "Dios=accepted_syn_db[accepted_syn_db['Family']=='Dioscoreaceae']\n",
    "Dios_genus_swap=Dios[Dios['Genus']!=Dios['Syn Genus']]\n",
    "Dios_genus_same=Dios[Dios['Genus']==Dios['Syn Genus']]"
   ]
  },
  {
   "cell_type": "markdown",
   "metadata": {},
   "source": [
    "There were no family swaps, probably due to the lack of families and genera represented in the small subset of data I managed to pull. We can  look at the ratio of genus name changes to just species name changes."
   ]
  },
  {
   "cell_type": "code",
   "execution_count": 8,
   "metadata": {},
   "outputs": [
    {
     "data": {
      "text/plain": [
       "0.07205623901581722"
      ]
     },
     "execution_count": 8,
     "metadata": {},
     "output_type": "execute_result"
    }
   ],
   "source": [
    "Dios_genus_switch.shape[0]/Dios_genus_same.shape[0]"
   ]
  },
  {
   "cell_type": "markdown",
   "metadata": {},
   "source": [
    "Most of the name changes were within a genus."
   ]
  },
  {
   "cell_type": "code",
   "execution_count": 18,
   "metadata": {},
   "outputs": [
    {
     "data": {
      "text/plain": [
       "array([nan], dtype=object)"
      ]
     },
     "execution_count": 18,
     "metadata": {},
     "output_type": "execute_result"
    }
   ],
   "source": [
    "Dios_genus_switch['Syn Original Status'].unique()"
   ]
  },
  {
   "cell_type": "markdown",
   "metadata": {},
   "source": [
    "And none of the name changes were due to a misspelling or something silly like that. \n",
    "The wikipedia page makes it sound like there were two, recent changes in the organization of the family. While a lot of that reorganization may have involved adding families, there may have been a large number of other re-arrangments within the family. "
   ]
  },
  {
   "cell_type": "code",
   "execution_count": 47,
   "metadata": {},
   "outputs": [
    {
     "data": {
      "text/plain": [
       "(1753.0, 1997.0]    605\n",
       "(1997.0, 2002.0]      3\n",
       "(2002.0, 2012.0]      0\n",
       "Name: Syn Date, dtype: int64"
      ]
     },
     "execution_count": 47,
     "metadata": {},
     "output_type": "execute_result"
    }
   ],
   "source": [
    "timeranges=[Dios['Syn Date'].min(), 1997,2002,2012]\n",
    "syn_bins=pd.cut(Dios['Syn Date'], timeranges)\n",
    "syn_bin_counts=pd.value_counts(syn_bins)\n",
    "syn_bin_counts\n"
   ]
  },
  {
   "cell_type": "code",
   "execution_count": 49,
   "metadata": {},
   "outputs": [
    {
     "data": {
      "text/plain": [
       "(1753.0, 1997.0]    548\n",
       "(1997.0, 2002.0]      3\n",
       "(2002.0, 2012.0]      0\n",
       "Name: Date, dtype: int64"
      ]
     },
     "execution_count": 49,
     "metadata": {},
     "output_type": "execute_result"
    }
   ],
   "source": [
    "d_timeranges=[Dios['Date'].min(), 1997,2002,2012]\n",
    "acc_bins=pd.cut(Dios['Date'], d_timeranges)\n",
    "acc_bin_counts=pd.value_counts(acc_bins)\n",
    "acc_bin_counts\n"
   ]
  },
  {
   "cell_type": "markdown",
   "metadata": {},
   "source": [
    "Well, my hypothesis was wrong! Granted, most of the names are from prior to any of the major reclassifications. Anyway, you want a plot, so lets make a plot based on the time between a synonymous and an accepted name. I.e., did people come up with new names for the same plant after quite a long time or are most names occuring near to the origination of a name?"
   ]
  },
  {
   "cell_type": "code",
   "execution_count": 72,
   "metadata": {},
   "outputs": [],
   "source": [
    "Time_between_names_distribution=Dios['Family'].groupby(Dios['Time Diff']).count()"
   ]
  },
  {
   "cell_type": "code",
   "execution_count": 76,
   "metadata": {},
   "outputs": [
    {
     "data": {
      "text/plain": [
       "<matplotlib.axes._subplots.AxesSubplot at 0x7f3555a27470>"
      ]
     },
     "execution_count": 76,
     "metadata": {},
     "output_type": "execute_result"
    },
    {
     "data": {
      "image/png": "[encoded data removed]",
      "text/plain": [
       "<Figure size 432x288 with 1 Axes>"
      ]
     },
     "metadata": {
      "needs_background": "light"
     },
     "output_type": "display_data"
    }
   ],
   "source": [
    "%matplotlib inline\n",
    "Time_between_names_distribution.plot(kind='bar')"
   ]
  },
  {
   "cell_type": "markdown",
   "metadata": {},
   "source": [
    "That is a horrible plot. Let's try out some predefined time difference bins to plot. "
   ]
  },
  {
   "cell_type": "code",
   "execution_count": 91,
   "metadata": {},
   "outputs": [
    {
     "data": {
      "text/plain": [
       "<matplotlib.axes._subplots.AxesSubplot at 0x7f35557efa20>"
      ]
     },
     "execution_count": 91,
     "metadata": {},
     "output_type": "execute_result"
    },
    {
     "data": {
      "image/png": "[encoded data removed]",
      "text/plain": [
       "<Figure size 432x288 with 1 Axes>"
      ]
     },
     "metadata": {
      "needs_background": "light"
     },
     "output_type": "display_data"
    }
   ],
   "source": [
    "bins=[0,1,5,10,15,20,25,50,100,150,200,250,300]\n",
    "diff_bins=pd.cut(Dios['Time Diff'],bins)\n",
    "diff_bins.value_counts().plot(kind='bar',title='Length of Time Between Accepted Name and Synonym Name')"
   ]
  },
  {
   "cell_type": "markdown",
   "metadata": {},
   "source": [
    "We can see that the names tend to have quite a bit of time between them! Wish I had more time to look into this..."
   ]
  },
  {
   "cell_type": "code",
   "execution_count": null,
   "metadata": {},
   "outputs": [],
   "source": []
  }
 ],
 "metadata": {
  "kernelspec": {
   "display_name": "Python 3",
   "language": "python",
   "name": "python3"
  },
  "language_info": {
   "codemirror_mode": {
    "name": "ipython",
    "version": 3
   },
   "file_extension": ".py",
   "mimetype": "text/x-python",
   "name": "python",
   "nbconvert_exporter": "python",
   "pygments_lexer": "ipython3",
   "version": "3.5.2"
  }
 },
 "nbformat": 4,
 "nbformat_minor": 2
}
